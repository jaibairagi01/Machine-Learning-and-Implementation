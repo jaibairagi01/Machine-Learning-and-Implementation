{
  "nbformat": 4,
  "nbformat_minor": 0,
  "metadata": {
    "colab": {
      "provenance": [],
      "authorship_tag": "ABX9TyPHXhs8Xj90SMAjNm5tr+gB",
      "include_colab_link": true
    },
    "kernelspec": {
      "name": "python3",
      "display_name": "Python 3"
    },
    "language_info": {
      "name": "python"
    }
  },
  "cells": [
    {
      "cell_type": "markdown",
      "metadata": {
        "id": "view-in-github",
        "colab_type": "text"
      },
      "source": [
        "<a href=\"https://colab.research.google.com/github/jaibairagi01/Machine-Learning-and-Implementation/blob/main/BuildingLogisticRegression.ipynb\" target=\"_parent\"><img src=\"https://colab.research.google.com/assets/colab-badge.svg\" alt=\"Open In Colab\"/></a>"
      ]
    },
    {
      "cell_type": "code",
      "execution_count": 2,
      "metadata": {
        "id": "kbq4RiV6ntKL"
      },
      "outputs": [],
      "source": [
        "#importing numpy library\n",
        "import numpy as np"
      ]
    },
    {
      "cell_type": "code",
      "source": [
        "class Logistic_Regression():\n",
        "\n",
        "  #declaring learning rate & number of iterations (HyperParameter)\n",
        "  def __init__(self, learning_rate, no_of_iterations):\n",
        "\n",
        "    self.learning_rate = learning_rate\n",
        "    self.no_of_iterations = no_of_iterations\n",
        "\n",
        "\n",
        "  #fit function to traits the model with dataset\n",
        "  def fit(self, X, Y):\n",
        "\n",
        "    #number of data point in the dataset (number of row) ---> m\n",
        "    #number of input features in the dataet (number of columns) --> n\n",
        "    self.m, self.n = X.shape\n",
        "\n",
        "    #initiating weight & bias value\n",
        "    self.w = np.zeroes(self.n)\n",
        "\n",
        "    self.b = 0\n",
        "\n",
        "    self.X = X\n",
        "\n",
        "    self.Y = Y\n",
        "\n",
        "    #Implementing Gradient Descent for Optimization\n",
        "    for i in range(self.no_of_iterations):\n",
        "       self.update_weights()\n",
        "\n",
        "  def update_weights(self):\n",
        "\n",
        "    #Y_hat formula (signoid function)\n",
        "\n",
        "    Y_hat = 1/(1 + np.exp( - (self.X.dot(self.w) + self.b)))\n",
        "\n",
        "    #derivatives\n",
        "\n",
        "    dw = (1/self.m)*np.dot(self.X.T, (Y_hat - self.Y))\n",
        "\n",
        "    db = (1/self.m)*np.sum(Y_hat - self.Y)\n",
        "\n",
        "    #updating the weights & bias using gradient descent\n",
        "\n",
        "    self.w = self.w - self.learning_rate*dw\n",
        "    self.b = self.b - self.learning_rate*db\n",
        "\n",
        "    #sigmoid equation & decesion boundary\n",
        "\n",
        "    def predict(self, X):\n",
        "\n",
        "      Y_pred = 1 / (1 + np.exp(- (self.X.dot(self.w) + self.b )))\n",
        "      Y_pred = np.where(Y_pred > 0.5, 1, 0)\n",
        "      return Y_pred\n"
      ],
      "metadata": {
        "id": "fPR8_8t-oDhe"
      },
      "execution_count": 4,
      "outputs": []
    }
  ]
}